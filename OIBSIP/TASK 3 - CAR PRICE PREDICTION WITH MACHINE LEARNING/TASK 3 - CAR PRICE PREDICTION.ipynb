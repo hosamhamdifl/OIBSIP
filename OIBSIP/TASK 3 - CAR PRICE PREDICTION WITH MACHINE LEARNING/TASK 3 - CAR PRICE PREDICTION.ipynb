{
 "cells": [
  {
   "cell_type": "markdown",
   "id": "e2b324b2",
   "metadata": {},
   "source": [
    "# TASK 3 - CAR PRICE PREDICTION USING MACHINE LEARNING"
   ]
  },
  {
   "cell_type": "code",
   "execution_count": null,
   "id": "653364ab",
   "metadata": {},
   "outputs": [],
   "source": [
    "#importing neccessary libraries"
   ]
  }
 ],
 "metadata": {
  "kernelspec": {
   "display_name": "Python 3 (ipykernel)",
   "language": "python",
   "name": "python3"
  },
  "language_info": {
   "codemirror_mode": {
    "name": "ipython",
    "version": 3
   },
   "file_extension": ".py",
   "mimetype": "text/x-python",
   "name": "python",
   "nbconvert_exporter": "python",
   "pygments_lexer": "ipython3",
   "version": "3.10.8"
  }
 },
 "nbformat": 4,
 "nbformat_minor": 5
}
